{
 "cells": [
  {
   "cell_type": "code",
   "execution_count": 1,
   "metadata": {
    "collapsed": false
   },
   "outputs": [],
   "source": [
    "import cv2\n",
    "import numpy as np\n",
    "import matplotlib.pyplot as plt\n",
    "import math"
   ]
  },
  {
   "cell_type": "code",
   "execution_count": 2,
   "metadata": {
    "collapsed": false
   },
   "outputs": [],
   "source": [
    "def draw_contours(image, box):\n",
    "    cv2.drawContours(image,[box],0,(100,0,255),2)\n",
    "    \n",
    "def get_rect_centroid(rect):      \n",
    "    coords = ((rect[0][0] + rect[1][1])//2,(rect[0][1] + rect[1][0])//2)   \n",
    "    return coords\n",
    "\n",
    "def draw_line(img, line, color=[100, 0, 255], thickness=5):  \n",
    "    x1, x2, y1, y2 = line\n",
    "    #print x1, x2, y1, y2\n",
    "    cv2.line(img, (x1, y1), (x2, y2), color, thickness)\n",
    "    return img\n",
    "\n",
    "def resize(image, newsize):\n",
    "    return cv2.resize(image,(newsize[0], newsize[1]), interpolation = cv2.INTER_CUBIC)\n",
    "\n",
    "def draw_image(source, image, x, y):\n",
    "    height = image.shape[0]\n",
    "    width  = image.shape[1]\n",
    "    \n",
    "    \n",
    "    max_y = y + height\n",
    "    #if max_y > source.shape[0]:\n",
    "        #max_y -= max_y - source.shape[0] + 1\n",
    "        \n",
    "    #print x, y, width, height\n",
    "    max_x = x + width\n",
    "    alpha = image[:, :, 3] / 255.0\n",
    "    \n",
    "    #if max_x > source.shape[1]:\n",
    "        #max_x -= max_x - source.shape[1] + 1\n",
    "    #print source.shape, y, max_y, x, max_x\n",
    "    #source [1:2, 1:2, 1]\n",
    "    for c in range(0,3):\n",
    "        color = image[:, :, c] * (alpha)\n",
    "        beta  = source [y:max_y, x:max_x, c] * (1.0 - alpha)\n",
    "        source[y:max_y, x:max_x, c] = color + beta\n",
    "    return source"
   ]
  },
  {
   "cell_type": "code",
   "execution_count": 3,
   "metadata": {
    "collapsed": true
   },
   "outputs": [],
   "source": [
    "watch = cv2.imread('/home/taras/Downloads/watch.png', -1)\n",
    "def draw_watch(image, x, y, width, height, angle):    \n",
    "    resized = resize(watch, (width, height))\n",
    "    \n",
    "    rotated = rotate_bound(resized, angle - 90)\n",
    "    draw_image(image, rotated, x, y)\n",
    "    return image"
   ]
  },
  {
   "cell_type": "code",
   "execution_count": 4,
   "metadata": {
    "collapsed": true
   },
   "outputs": [],
   "source": [
    "def rotate_bound(image, angle):\n",
    "    # grab the dimensions of the image and then determine the\n",
    "    # center\n",
    "    (h, w) = image.shape[:2]\n",
    "    (cX, cY) = (w // 2, h // 2)\n",
    " \n",
    "    # grab the rotation matrix (applying the negative of the\n",
    "    # angle to rotate clockwise), then grab the sine and cosine\n",
    "    # (i.e., the rotation components of the matrix)\n",
    "    M = cv2.getRotationMatrix2D((cX, cY), angle, 1.0)\n",
    "    cos = np.abs(M[0, 0])\n",
    "    sin = np.abs(M[0, 1])\n",
    " \n",
    "    # compute the new bounding dimensions of the image\n",
    "    nW = int((h * sin) + (w * cos))\n",
    "    nH = int((h * cos) + (w * sin))\n",
    " \n",
    "    # adjust the rotation matrix to take into account translation\n",
    "    M[0, 2] += (nW / 2) - cX\n",
    "    M[1, 2] += (nH / 2) - cY\n",
    " \n",
    "    # perform the actual rotation and return the image\n",
    "    return cv2.warpAffine(image, M, (nW, nH))"
   ]
  },
  {
   "cell_type": "code",
   "execution_count": 5,
   "metadata": {
    "collapsed": true
   },
   "outputs": [],
   "source": [
    "def get_max_countour(thresholded):    \n",
    "    image, countours, hierarchies = cv2.findContours(thresholded,cv2.RETR_TREE,cv2.CHAIN_APPROX_SIMPLE)\n",
    "    \n",
    "    count = len(countours)\n",
    "    if count <= 0:\n",
    "        return []\n",
    "    \n",
    "    max_area = 100    \n",
    "    max_index = -1\n",
    "    for i in range(count):\n",
    "        countour = countours[i]\n",
    "        area = cv2.contourArea(countour)\n",
    "        if ( max_area < area):\n",
    "            max_area = area\n",
    "            max_index = i\n",
    "            \n",
    "    if max_index == -1:\n",
    "        return []\n",
    "                \n",
    "    return countours[max_index]\n",
    "\n",
    "def get_bounding_box(cont):\n",
    "    rect = cv2.minAreaRect(cont)\n",
    "    box = cv2.boxPoints(rect)\n",
    "    box = np.int0(box)\n",
    "    return box, rect"
   ]
  },
  {
   "cell_type": "code",
   "execution_count": 123,
   "metadata": {
    "collapsed": false
   },
   "outputs": [],
   "source": [
    "def cropRotated(image, rect):\n",
    "   \n",
    "    center, size, angle = rect  \n",
    "    \n",
    "    if angle < -45.0  :\n",
    "        angle += 90.0\n",
    "        width, height = size[1], size[0]\n",
    "        size = (width, height)\n",
    "    else:\n",
    "        angle = -angle\n",
    "        \n",
    "    M = cv2.getRotationMatrix2D(center, angle, 1.0)\n",
    "    \n",
    "    \n",
    "    imgWidth, imgHeight = (image.shape[1], image.shape[0])\n",
    "    rotated = cv2.warpAffine(image, M, (imgHeight, imgWidth), flags=cv2.INTER_CUBIC)\n",
    "    \n",
    "    sizeInt = (np.int0(size[1]), np.int0(size[0]))\n",
    "    if sizeInt[0] > sizeInt[1] :\n",
    "        sizeInt = sizeInt[1], sizeInt[0] \n",
    "     \n",
    "    uprightRect = cv2.getRectSubPix(rotated, sizeInt, center)\n",
    "\n",
    "    return uprightRect, M, rotated\n",
    "\n",
    "def rotateRect(matrix, boundingBox):\n",
    "    rotated = []\n",
    "    for pt in boundingBox:\n",
    "        x, y = np.array([pt[0], pt[1], 1]).dot(matrix.T)\n",
    "        rotated.append([int(x), int(y)])\n",
    "    return np.array(rotated)\n",
    "\n",
    "def minmax(data):\n",
    "    return min(data), max(data)\n",
    "\n",
    "def cropAlignedRect(image, boundBox):\n",
    "    min_x, max_x = minmax(boundBox[:, 0])\n",
    "    min_y, max_y = minmax(boundBox[:, 1])\n",
    "    \n",
    "    (ww, hh) = (max_x - min_x, max_y - min_y)\n",
    "    image_width, image_height = image.shape[1], image.shape[0]\n",
    "    \n",
    "    width = ww + min_x\n",
    "    if width > image_width:\n",
    "        width -= width - image_width\n",
    "    \n",
    "    height = hh + min_y\n",
    "    if height > image_height:\n",
    "        height -= height - image_height\n",
    "        \n",
    "    return image[min_y:height, min_x:width], min_x, min_y"
   ]
  },
  {
   "cell_type": "code",
   "execution_count": 73,
   "metadata": {
    "collapsed": true
   },
   "outputs": [],
   "source": [
    "#read image\n",
    "#img = cv2.imread('/home/taras/Downloads/hand_c.jpg', -1)\n",
    "\n",
    "low_y, high_y = 170, 255\n",
    "low_Cr, high_Cr = 125, 230\n",
    "              \n",
    "#threshold y cb cr\n",
    "lo = np.array([low_y,low_Cr,75])\n",
    "hi = np.array([high_y,high_Cr,150])    \n",
    "    \n",
    "kernel_square = np.ones((11,11),np.uint8)\n",
    "kernel_ellipse = cv2.getStructuringElement(cv2.MORPH_ELLIPSE,(7,7))        \n",
    "\n",
    "def processImage(img) :\n",
    "    \n",
    "    #gaussian\n",
    "    blured_img = cv2.GaussianBlur(img,(7,7),2) \n",
    "\n",
    "    #to ycrcb\n",
    "    yc = cv2.cvtColor(blured_img,cv2.COLOR_BGR2YCR_CB)\n",
    "\n",
    "    #threshold y cb cr        \n",
    "    mask = cv2.inRange(yc,lo,hi)\n",
    "\n",
    "    #gaussian ycrcb\n",
    "    blured_mask = cv2.GaussianBlur(mask,(7,7),2)\n",
    "  \n",
    "    #get mask\n",
    "    mask  = cv2.morphologyEx(mask,cv2.MORPH_OPEN,kernel_ellipse,iterations = 2)\n",
    "    colored_mask = cv2.bitwise_and(img,img,mask=mask)  \n",
    "\n",
    "    #threshold   \n",
    "    ret, image = cv2.threshold(mask, 127, 255, cv2.THRESH_BINARY)   \n",
    "\n",
    "    return image"
   ]
  },
  {
   "cell_type": "code",
   "execution_count": 236,
   "metadata": {
    "collapsed": false
   },
   "outputs": [
    {
     "data": {
      "text/plain": [
       "'\\n#visualize\\ndraw_line(img, line)\\nprint line, img.shape\\ndraw_contours(img, bbox)\\n\\n#draw_watch(img, 0, 0, watch.shape[0],  (watch.shape[1] ** 2) / watch.shape[0], 0)\\nplt.imshow(img)\\nplt.show()\\n'"
      ]
     },
     "execution_count": 236,
     "metadata": {},
     "output_type": "execute_result"
    }
   ],
   "source": [
    "\n",
    "def getWrist(image):\n",
    "    #contour \n",
    "    max_countour  = get_max_countour(image)\n",
    "    \n",
    "    \n",
    "    if len(max_countour) <= 0:\n",
    "        return [], [], image, []\n",
    "    bbox, minArea = get_bounding_box(max_countour)\n",
    "    \n",
    "    rows,cols = image.shape[:2]\n",
    "    [vx,vy,x,y] = cv2.fitLine(max_countour, cv2.DIST_L2,0,0.01,0.01)\n",
    "    lefty = int((-x*vy/vx) + y)\n",
    "    righty = int(((cols-x)*vy/vx)+y)\n",
    "    direction = [cols-1, 0, righty,lefty]\n",
    "    #cv2.line(img,(cols-1,righty),(0,lefty),(0,255,0),2)\n",
    "    angleInDegrees = math.atan(abs(righty - lefty) / (cols-1)) * 180 / math.pi\n",
    "    #print angleInDegrees\n",
    "    \n",
    "    #crop, align hand\n",
    "    croped, matrix_transform, rotated = cropRotated(image, minArea )\n",
    "    \n",
    "    rotatedBoundBox    = rotateRect(matrix_transform, bbox)\n",
    "    hand, start_x, start_y = cropAlignedRect(rotated, rotatedBoundBox)\n",
    "\n",
    "    #find hand widths\n",
    "    hand_widths = []\n",
    "    i = 0\n",
    "    for row in hand:\n",
    "        nonzero = np.nonzero(row)[0]    \n",
    "        if len(nonzero) > 1:  \n",
    "            s, e = nonzero[0], nonzero[-1]      \n",
    "            hand_widths.append( (i, s, e, abs(s - e)))               \n",
    "        i += 1\n",
    "    hand_widths = np.array(hand_widths)\n",
    "    \n",
    "    if hand_widths.shape[0] <= 0:\n",
    "        return [], bbox, hand, direction\n",
    "\n",
    "    #find hand widths peaks\n",
    "    from scipy.signal import find_peaks_cwt\n",
    "    from scipy.ndimage.filters import gaussian_filter\n",
    "    hand_widths_blurred = gaussian_filter(hand_widths[:, 3], sigma=3)\n",
    "    peaks = find_peaks_cwt(np.array(hand_widths_blurred), np.arange(1,15))\n",
    " \n",
    "    if len(peaks) <= 0:\n",
    "        return [], bbox, hand, direction\n",
    "\n",
    "    #find wrist\n",
    "    th = 20\n",
    "    cur_peak = peaks[-1]\n",
    "    cur_hand_width = hand_widths[cur_peak][3]\n",
    "    for i in range(len(peaks)-1, 0, -1):\n",
    "        if (abs(hand_widths[peaks[i]][3] - cur_hand_width) > th ):\n",
    "            break\n",
    "        else:\n",
    "            cur_peak = peaks[i]\n",
    "            cur_hand_width = hand_widths[cur_peak][3] \n",
    "        \n",
    "    wrist = hand_widths[cur_peak]\n",
    "    #plt.plot(range(len(hand_widths_blurred)), hand_widths_blurred, 'o') #dists[:, 1:4], 'o')\n",
    "    #for k in peaks:   \n",
    "        #plt.plot((k), (hand_widths_blurred[k]), 'o') \n",
    "    #plt.show()\n",
    "    \n",
    "    #get wrist points\n",
    "    inv_matrix_transform = cv2.invertAffineTransform(matrix_transform)\n",
    "\n",
    "    x1, y1 = np.array([wrist[1], wrist[0], 1]).dot(inv_matrix_transform.T)\n",
    "    x2, y2 = np.array([wrist[2], wrist[0], 1]).dot(inv_matrix_transform.T)\n",
    "    dx, dy = np.array([start_x, start_y, 1]).dot(matrix_transform.T)\n",
    "\n",
    "    line = [int(x1 + dx), int(x2 + dx), int(y1 + dy), int(y2+ dy)]\n",
    "    \n",
    "    x1, y1 = wrist[1], wrist[0]\n",
    "    x2, y2 = wrist[2], wrist[0]\n",
    "    dx, dy = 0,0#start_x, start_y\n",
    "    draw_line(hand, [int(x1) + dx, int(x2) + dx, int(y1) + dy, int(y2)+ dy], [100, 100, 100], 20)\n",
    "    #print wrist\n",
    "    return line, bbox, hand, direction\n",
    "\n",
    "'''\n",
    "#visualize\n",
    "draw_line(img, line)\n",
    "print line, img.shape\n",
    "draw_contours(img, bbox)\n",
    "\n",
    "#draw_watch(img, 0, 0, watch.shape[0],  (watch.shape[1] ** 2) / watch.shape[0], 0)\n",
    "plt.imshow(img)\n",
    "plt.show()\n",
    "'''\n",
    "\n"
   ]
  },
  {
   "cell_type": "code",
   "execution_count": 237,
   "metadata": {
    "collapsed": false
   },
   "outputs": [
    {
     "data": {
      "image/png": "[encoded data removed]",
      "text/plain": [
       "<matplotlib.figure.Figure at 0x7f3c5e7b0f10>"
      ]
     },
     "metadata": {},
     "output_type": "display_data"
    },
    {
     "data": {
      "image/png": "[encoded data removed]",
      "text/plain": [
       "<matplotlib.figure.Figure at 0x7f3c6b663e10>"
      ]
     },
     "metadata": {},
     "output_type": "display_data"
    }
   ],
   "source": [
    "frame = cv2.imread('/home/taras/Downloads/thand2.png', -1)\n",
    "\n",
    "thresholded = processImage(frame)\n",
    "wrist, bbox, hand, direction = getWrist(thresholded)\n",
    "\n",
    "draw_line(frame, wrist)\n",
    "draw_contours(frame, bbox)\n",
    "plt.show()\n",
    "\n",
    "#plt.imshow(frame)\n",
    "#plt.show()\n",
    "\n",
    "plt.imshow(hand)\n",
    "plt.show()\n"
   ]
  },
  {
   "cell_type": "code",
   "execution_count": 238,
   "metadata": {
    "collapsed": false
   },
   "outputs": [
    {
     "name": "stdout",
     "output_type": "stream",
     "text": [
      "Released\n"
     ]
    }
   ],
   "source": [
    "cap = cv2.VideoCapture(0)\n",
    "\n",
    "#Kernel matrices for morphological transformation\n",
    "#kernel_square = np.ones((5,5),np.uint8)\n",
    "#kernel_ellipse= cv2.getStructuringElement(cv2.MORPH_ELLIPSE,(5,5))    \n",
    "\n",
    "wrist = []\n",
    "\n",
    "try:\n",
    "    while(True):\n",
    "        # Capture frame-by-frame\n",
    "        ret, frame = cap.read()\n",
    "    \n",
    "        if ret == False:\n",
    "            continue\n",
    "        \n",
    "        thresholded = processImage(frame)\n",
    "        wrist, bbox, hand, direction = getWrist(thresholded)\n",
    "        \n",
    "        if len(wrist) > 0:        \n",
    "            draw_line(frame, wrist)\n",
    "            draw_contours(frame, bbox)\n",
    "            draw_line(frame, direction)\n",
    "            \n",
    "        cv2.imshow('Hand detec',frame)\n",
    "        cv2.imshow('mask',thresholded)\n",
    "        \n",
    "        if (hand.shape[0] > 0 and hand.shape[1] > 0):\n",
    "            cv2.imshow('hnd',hand)\n",
    "       \n",
    "        if cv2.waitKey(1) & 0xFF == ord('q'):\n",
    "            break\n",
    "except KeyboardInterrupt:\n",
    "    cap.release()\n",
    "    cv2.destroyAllWindows()\n",
    "    print (\"Released\")\n",
    "except Exception as e :\n",
    "    cap.release()\n",
    "    cv2.destroyAllWindows()\n",
    "    print (e)    "
   ]
  },
  {
   "cell_type": "code",
   "execution_count": 15,
   "metadata": {
    "collapsed": false
   },
   "outputs": [
    {
     "name": "stdout",
     "output_type": "stream",
     "text": [
      "[32, 158]\n"
     ]
    },
    {
     "data": {
      "image/png": "[encoded data removed]",
      "text/plain": [
       "<matplotlib.figure.Figure at 0x7eff183b3bd0>"
      ]
     },
     "metadata": {},
     "output_type": "display_data"
    }
   ],
   "source": [
    "from scipy import signal\n",
    "xs = np.arange(0, np.pi * 3, 0.05)\n",
    "data = np.sin(xs)\n",
    "peakind = signal.find_peaks_cwt(data, np.arange(1,10))\n",
    "peakind, xs[peakind], data[peakind]\n",
    "print peakind\n",
    "plt.plot(xs, data, 'o')\n",
    "plt.show()"
   ]
  },
  {
   "cell_type": "code",
   "execution_count": 11,
   "metadata": {
    "collapsed": false
   },
   "outputs": [],
   "source": [
    "#helpers\n",
    "\n",
    "#from scipy.signal import argrelextrema\n",
    "#maxm = argrelextrema(np.array(blurred), np.less_equal, order=15)\n",
    "\n",
    "#plot peaks\n",
    "#for k in maxm:   \n",
    "    #plt.plot((k[0]), (k[1]), 'o')\n",
    "\n",
    "#plt.plot(range(len(dists)), blurred, 'o') #dists[:, 1:4], 'o')\n",
    "#for k in maxm:   \n",
    "    #plt.plot((k), (blurred[k]), 'o')        \n",
    "#plt.plot((a[0], a[0]), (a[1], a[2]), '-')\n",
    "\n",
    "#x1, y1 = a[1], a[0]\n",
    "#x2, y2 = a[2], a[0]\n",
    "#draw_line(rotated, [int(x1) + dt, int(x2) + dt, int(y1) + dy, int(y2)+ dy])\n",
    "#draw_contours(rotated, rt_bbox)\n",
    "#plt.imshow(rotated)\n",
    "#plt.show()"
   ]
  },
  {
   "cell_type": "code",
   "execution_count": 291,
   "metadata": {
    "collapsed": false
   },
   "outputs": [
    {
     "data": {
      "image/png": "[encoded data removed]",
      "text/plain": [
       "<matplotlib.figure.Figure at 0x7f989a67a350>"
      ]
     },
     "metadata": {},
     "output_type": "display_data"
    }
   ],
   "source": []
  },
  {
   "cell_type": "code",
   "execution_count": null,
   "metadata": {
    "collapsed": true
   },
   "outputs": [],
   "source": []
  }
 ],
 "metadata": {
  "kernelspec": {
   "display_name": "Python 2",
   "language": "python",
   "name": "python2"
  },
  "language_info": {
   "codemirror_mode": {
    "name": "ipython",
    "version": 2
   },
   "file_extension": ".py",
   "mimetype": "text/x-python",
   "name": "python",
   "nbconvert_exporter": "python",
   "pygments_lexer": "ipython2",
   "version": "2.7.12"
  }
 },
 "nbformat": 4,
 "nbformat_minor": 2
}
